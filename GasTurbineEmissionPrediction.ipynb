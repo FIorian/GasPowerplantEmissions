{
  "nbformat": 4,
  "nbformat_minor": 0,
  "metadata": {
    "colab": {
      "name": "GasTurbineEmissionPrediction.ipynb",
      "provenance": [],
      "collapsed_sections": [],
      "include_colab_link": true
    },
    "kernelspec": {
      "name": "python3",
      "display_name": "Python 3"
    }
  },
  "cells": [
    {
      "cell_type": "markdown",
      "metadata": {
        "id": "view-in-github",
        "colab_type": "text"
      },
      "source": [
        "<a href=\"https://colab.research.google.com/github/FIorian/GasPowerplantEmissions/blob/main/GasTurbineEmissionPrediction.ipynb\" target=\"_parent\"><img src=\"https://colab.research.google.com/assets/colab-badge.svg\" alt=\"Open In Colab\"/></a>"
      ]
    },
    {
      "cell_type": "markdown",
      "metadata": {
        "id": "Lq-bxuC4wnTB"
      },
      "source": [
        "Linear regression method sources:\n",
        "\n",
        "\n",
        "*   https://towardsdatascience.com/multivariate-linear-regression-in-python-step-by-step-128c2b127171\n",
        "*   https://github.com/aymericdamien/TensorFlow-Examples/blob/master/tensorflow_v2/notebooks/2_BasicModels/linear_regression.ipynb\n",
        "\n"
      ]
    },
    {
      "cell_type": "code",
      "metadata": {
        "id": "SBJi-HlpoRm6"
      },
      "source": [
        "# IMPORTS\n",
        "from __future__ import absolute_import, division, print_function, unicode_literals\n",
        "\n",
        "# Tensofflow imports\n",
        "import tensorflow as tf\n",
        "from tensorflow import keras\n",
        "from keras import backend as K\n",
        "\n",
        "# util imports\n",
        "import numpy as np\n",
        "import pandas as pd\n",
        "import matplotlib.pyplot as plt"
      ],
      "execution_count": 30,
      "outputs": []
    },
    {
      "cell_type": "markdown",
      "metadata": {
        "id": "F2xE7yg0t7dl"
      },
      "source": [
        "Following 2 blocks get the datast from the web and unpack it:"
      ]
    },
    {
      "cell_type": "code",
      "metadata": {
        "id": "UsUNWvtr47G7",
        "outputId": "736de518-d45b-4888-9ed2-bd78e5faf499",
        "colab": {
          "base_uri": "https://localhost:8080/",
          "height": 219
        }
      },
      "source": [
        "!wget https://archive.ics.uci.edu/ml/machine-learning-databases/00551/pp_gas_emission.zip"
      ],
      "execution_count": 31,
      "outputs": [
        {
          "output_type": "stream",
          "text": [
            "--2020-10-28 15:35:23--  https://archive.ics.uci.edu/ml/machine-learning-databases/00551/pp_gas_emission.zip\n",
            "Resolving archive.ics.uci.edu (archive.ics.uci.edu)... 128.195.10.252\n",
            "Connecting to archive.ics.uci.edu (archive.ics.uci.edu)|128.195.10.252|:443... connected.\n",
            "HTTP request sent, awaiting response... 200 OK\n",
            "Length: 1090294 (1.0M) [application/x-httpd-php]\n",
            "Saving to: ‘pp_gas_emission.zip.1’\n",
            "\n",
            "pp_gas_emission.zip 100%[===================>]   1.04M  3.39MB/s    in 0.3s    \n",
            "\n",
            "2020-10-28 15:35:24 (3.39 MB/s) - ‘pp_gas_emission.zip.1’ saved [1090294/1090294]\n",
            "\n"
          ],
          "name": "stdout"
        }
      ]
    },
    {
      "cell_type": "code",
      "metadata": {
        "id": "-hHeLSGdDW4B",
        "outputId": "29473ce8-894a-4ef3-adab-5a46fbda13e6",
        "colab": {
          "base_uri": "https://localhost:8080/",
          "height": 146
        }
      },
      "source": [
        "!unzip pp_gas_emission.zip"
      ],
      "execution_count": 32,
      "outputs": [
        {
          "output_type": "stream",
          "text": [
            "Archive:  pp_gas_emission.zip\n",
            "replace gt_2011.csv? [y]es, [n]o, [A]ll, [N]one, [r]ename: A\n",
            "  inflating: gt_2011.csv             \n",
            "  inflating: gt_2012.csv             \n",
            "  inflating: gt_2013.csv             \n",
            "  inflating: gt_2014.csv             \n",
            "  inflating: gt_2015.csv             \n"
          ],
          "name": "stdout"
        }
      ]
    },
    {
      "cell_type": "code",
      "metadata": {
        "id": "9l1JYXtat3-T"
      },
      "source": [
        "# Defining some parameters.\n",
        "learning_rate = 0.01\n",
        "training_steps = 1000\n",
        "display_step = 50"
      ],
      "execution_count": 33,
      "outputs": []
    },
    {
      "cell_type": "code",
      "metadata": {
        "id": "2tAGX7RiFbBD",
        "outputId": "762f6caf-ddc2-472a-eee5-35befc75625c",
        "colab": {
          "base_uri": "https://localhost:8080/",
          "height": 424
        }
      },
      "source": [
        "# CREATING AND FILLING UP DATABASE\n",
        "\n",
        "dataset = pd.read_csv(\"gt_2013.csv\")\n",
        "# dataset.append(pd.read_csv(\"gt_2012.csv\"))\n",
        "# dataset.append(pd.read_csv(\"gt_2013.csv\"))\n",
        "# dataset.append(pd.read_csv(\"gt_2014.csv\"))\n",
        "# dataset.append(pd.read_csv(\"gt_2015.csv\"))\n",
        "\n",
        "dataset"
      ],
      "execution_count": 34,
      "outputs": [
        {
          "output_type": "execute_result",
          "data": {
            "text/html": [
              "<div>\n",
              "<style scoped>\n",
              "    .dataframe tbody tr th:only-of-type {\n",
              "        vertical-align: middle;\n",
              "    }\n",
              "\n",
              "    .dataframe tbody tr th {\n",
              "        vertical-align: top;\n",
              "    }\n",
              "\n",
              "    .dataframe thead th {\n",
              "        text-align: right;\n",
              "    }\n",
              "</style>\n",
              "<table border=\"1\" class=\"dataframe\">\n",
              "  <thead>\n",
              "    <tr style=\"text-align: right;\">\n",
              "      <th></th>\n",
              "      <th>AT</th>\n",
              "      <th>AP</th>\n",
              "      <th>AH</th>\n",
              "      <th>AFDP</th>\n",
              "      <th>GTEP</th>\n",
              "      <th>TIT</th>\n",
              "      <th>TAT</th>\n",
              "      <th>TEY</th>\n",
              "      <th>CDP</th>\n",
              "      <th>CO</th>\n",
              "      <th>NOX</th>\n",
              "    </tr>\n",
              "  </thead>\n",
              "  <tbody>\n",
              "    <tr>\n",
              "      <th>0</th>\n",
              "      <td>9.3779</td>\n",
              "      <td>1020.1</td>\n",
              "      <td>90.262</td>\n",
              "      <td>2.3927</td>\n",
              "      <td>19.166</td>\n",
              "      <td>1043.6</td>\n",
              "      <td>541.16</td>\n",
              "      <td>110.16</td>\n",
              "      <td>10.564</td>\n",
              "      <td>9.3472</td>\n",
              "      <td>98.741</td>\n",
              "    </tr>\n",
              "    <tr>\n",
              "      <th>1</th>\n",
              "      <td>9.2985</td>\n",
              "      <td>1019.9</td>\n",
              "      <td>89.934</td>\n",
              "      <td>2.3732</td>\n",
              "      <td>19.119</td>\n",
              "      <td>1039.9</td>\n",
              "      <td>538.94</td>\n",
              "      <td>109.23</td>\n",
              "      <td>10.572</td>\n",
              "      <td>11.0160</td>\n",
              "      <td>104.290</td>\n",
              "    </tr>\n",
              "    <tr>\n",
              "      <th>2</th>\n",
              "      <td>9.1337</td>\n",
              "      <td>1019.8</td>\n",
              "      <td>89.868</td>\n",
              "      <td>2.3854</td>\n",
              "      <td>19.178</td>\n",
              "      <td>1041.0</td>\n",
              "      <td>539.47</td>\n",
              "      <td>109.62</td>\n",
              "      <td>10.543</td>\n",
              "      <td>10.7500</td>\n",
              "      <td>103.470</td>\n",
              "    </tr>\n",
              "    <tr>\n",
              "      <th>3</th>\n",
              "      <td>8.9715</td>\n",
              "      <td>1019.3</td>\n",
              "      <td>89.490</td>\n",
              "      <td>2.3825</td>\n",
              "      <td>19.180</td>\n",
              "      <td>1037.1</td>\n",
              "      <td>536.89</td>\n",
              "      <td>108.88</td>\n",
              "      <td>10.458</td>\n",
              "      <td>12.2870</td>\n",
              "      <td>108.810</td>\n",
              "    </tr>\n",
              "    <tr>\n",
              "      <th>4</th>\n",
              "      <td>9.0157</td>\n",
              "      <td>1019.1</td>\n",
              "      <td>89.099</td>\n",
              "      <td>2.4044</td>\n",
              "      <td>19.206</td>\n",
              "      <td>1043.5</td>\n",
              "      <td>541.25</td>\n",
              "      <td>110.09</td>\n",
              "      <td>10.464</td>\n",
              "      <td>9.8229</td>\n",
              "      <td>100.020</td>\n",
              "    </tr>\n",
              "    <tr>\n",
              "      <th>...</th>\n",
              "      <td>...</td>\n",
              "      <td>...</td>\n",
              "      <td>...</td>\n",
              "      <td>...</td>\n",
              "      <td>...</td>\n",
              "      <td>...</td>\n",
              "      <td>...</td>\n",
              "      <td>...</td>\n",
              "      <td>...</td>\n",
              "      <td>...</td>\n",
              "      <td>...</td>\n",
              "    </tr>\n",
              "    <tr>\n",
              "      <th>7147</th>\n",
              "      <td>4.8631</td>\n",
              "      <td>1027.0</td>\n",
              "      <td>81.084</td>\n",
              "      <td>4.2825</td>\n",
              "      <td>34.045</td>\n",
              "      <td>1100.0</td>\n",
              "      <td>529.98</td>\n",
              "      <td>168.38</td>\n",
              "      <td>14.290</td>\n",
              "      <td>1.2538</td>\n",
              "      <td>78.397</td>\n",
              "    </tr>\n",
              "    <tr>\n",
              "      <th>7148</th>\n",
              "      <td>4.5173</td>\n",
              "      <td>1027.4</td>\n",
              "      <td>80.813</td>\n",
              "      <td>4.2481</td>\n",
              "      <td>33.904</td>\n",
              "      <td>1100.1</td>\n",
              "      <td>530.47</td>\n",
              "      <td>168.07</td>\n",
              "      <td>14.344</td>\n",
              "      <td>1.0808</td>\n",
              "      <td>78.251</td>\n",
              "    </tr>\n",
              "    <tr>\n",
              "      <th>7149</th>\n",
              "      <td>4.2717</td>\n",
              "      <td>1027.9</td>\n",
              "      <td>80.380</td>\n",
              "      <td>4.2817</td>\n",
              "      <td>34.165</td>\n",
              "      <td>1099.9</td>\n",
              "      <td>529.56</td>\n",
              "      <td>168.55</td>\n",
              "      <td>14.395</td>\n",
              "      <td>1.0472</td>\n",
              "      <td>77.269</td>\n",
              "    </tr>\n",
              "    <tr>\n",
              "      <th>7150</th>\n",
              "      <td>4.0853</td>\n",
              "      <td>1028.6</td>\n",
              "      <td>78.907</td>\n",
              "      <td>4.2313</td>\n",
              "      <td>33.802</td>\n",
              "      <td>1100.1</td>\n",
              "      <td>530.61</td>\n",
              "      <td>167.98</td>\n",
              "      <td>14.343</td>\n",
              "      <td>1.0875</td>\n",
              "      <td>77.985</td>\n",
              "    </tr>\n",
              "    <tr>\n",
              "      <th>7151</th>\n",
              "      <td>4.2148</td>\n",
              "      <td>1029.4</td>\n",
              "      <td>70.679</td>\n",
              "      <td>4.2049</td>\n",
              "      <td>33.768</td>\n",
              "      <td>1100.0</td>\n",
              "      <td>530.97</td>\n",
              "      <td>167.30</td>\n",
              "      <td>14.291</td>\n",
              "      <td>1.1337</td>\n",
              "      <td>78.950</td>\n",
              "    </tr>\n",
              "  </tbody>\n",
              "</table>\n",
              "<p>7152 rows × 11 columns</p>\n",
              "</div>"
            ],
            "text/plain": [
              "          AT      AP      AH    AFDP  ...     TEY     CDP       CO      NOX\n",
              "0     9.3779  1020.1  90.262  2.3927  ...  110.16  10.564   9.3472   98.741\n",
              "1     9.2985  1019.9  89.934  2.3732  ...  109.23  10.572  11.0160  104.290\n",
              "2     9.1337  1019.8  89.868  2.3854  ...  109.62  10.543  10.7500  103.470\n",
              "3     8.9715  1019.3  89.490  2.3825  ...  108.88  10.458  12.2870  108.810\n",
              "4     9.0157  1019.1  89.099  2.4044  ...  110.09  10.464   9.8229  100.020\n",
              "...      ...     ...     ...     ...  ...     ...     ...      ...      ...\n",
              "7147  4.8631  1027.0  81.084  4.2825  ...  168.38  14.290   1.2538   78.397\n",
              "7148  4.5173  1027.4  80.813  4.2481  ...  168.07  14.344   1.0808   78.251\n",
              "7149  4.2717  1027.9  80.380  4.2817  ...  168.55  14.395   1.0472   77.269\n",
              "7150  4.0853  1028.6  78.907  4.2313  ...  167.98  14.343   1.0875   77.985\n",
              "7151  4.2148  1029.4  70.679  4.2049  ...  167.30  14.291   1.1337   78.950\n",
              "\n",
              "[7152 rows x 11 columns]"
            ]
          },
          "metadata": {
            "tags": []
          },
          "execution_count": 34
        }
      ]
    },
    {
      "cell_type": "code",
      "metadata": {
        "id": "b7lUklT2vWGm",
        "outputId": "7b187d7f-e125-4d80-fa2a-348dc75d2ba1",
        "colab": {
          "base_uri": "https://localhost:8080/",
          "height": 237
        }
      },
      "source": [
        "# checking for empty values\n",
        "dataset.isna().sum()"
      ],
      "execution_count": 35,
      "outputs": [
        {
          "output_type": "execute_result",
          "data": {
            "text/plain": [
              "AT      0\n",
              "AP      0\n",
              "AH      0\n",
              "AFDP    0\n",
              "GTEP    0\n",
              "TIT     0\n",
              "TAT     0\n",
              "TEY     0\n",
              "CDP     0\n",
              "CO      0\n",
              "NOX     0\n",
              "dtype: int64"
            ]
          },
          "metadata": {
            "tags": []
          },
          "execution_count": 35
        }
      ]
    },
    {
      "cell_type": "code",
      "metadata": {
        "id": "tDFrfwDYvakn",
        "outputId": "b1130772-904c-428b-b8cf-011d99b8bc2d",
        "colab": {
          "base_uri": "https://localhost:8080/",
          "height": 206
        }
      },
      "source": [
        "# adding bias term\n",
        "dataset = pd.concat([pd.Series(1, index=dataset.index, name='00'), dataset], axis=1)\n",
        "dataset.head()"
      ],
      "execution_count": 36,
      "outputs": [
        {
          "output_type": "execute_result",
          "data": {
            "text/html": [
              "<div>\n",
              "<style scoped>\n",
              "    .dataframe tbody tr th:only-of-type {\n",
              "        vertical-align: middle;\n",
              "    }\n",
              "\n",
              "    .dataframe tbody tr th {\n",
              "        vertical-align: top;\n",
              "    }\n",
              "\n",
              "    .dataframe thead th {\n",
              "        text-align: right;\n",
              "    }\n",
              "</style>\n",
              "<table border=\"1\" class=\"dataframe\">\n",
              "  <thead>\n",
              "    <tr style=\"text-align: right;\">\n",
              "      <th></th>\n",
              "      <th>00</th>\n",
              "      <th>AT</th>\n",
              "      <th>AP</th>\n",
              "      <th>AH</th>\n",
              "      <th>AFDP</th>\n",
              "      <th>GTEP</th>\n",
              "      <th>TIT</th>\n",
              "      <th>TAT</th>\n",
              "      <th>TEY</th>\n",
              "      <th>CDP</th>\n",
              "      <th>CO</th>\n",
              "      <th>NOX</th>\n",
              "    </tr>\n",
              "  </thead>\n",
              "  <tbody>\n",
              "    <tr>\n",
              "      <th>0</th>\n",
              "      <td>1</td>\n",
              "      <td>9.3779</td>\n",
              "      <td>1020.1</td>\n",
              "      <td>90.262</td>\n",
              "      <td>2.3927</td>\n",
              "      <td>19.166</td>\n",
              "      <td>1043.6</td>\n",
              "      <td>541.16</td>\n",
              "      <td>110.16</td>\n",
              "      <td>10.564</td>\n",
              "      <td>9.3472</td>\n",
              "      <td>98.741</td>\n",
              "    </tr>\n",
              "    <tr>\n",
              "      <th>1</th>\n",
              "      <td>1</td>\n",
              "      <td>9.2985</td>\n",
              "      <td>1019.9</td>\n",
              "      <td>89.934</td>\n",
              "      <td>2.3732</td>\n",
              "      <td>19.119</td>\n",
              "      <td>1039.9</td>\n",
              "      <td>538.94</td>\n",
              "      <td>109.23</td>\n",
              "      <td>10.572</td>\n",
              "      <td>11.0160</td>\n",
              "      <td>104.290</td>\n",
              "    </tr>\n",
              "    <tr>\n",
              "      <th>2</th>\n",
              "      <td>1</td>\n",
              "      <td>9.1337</td>\n",
              "      <td>1019.8</td>\n",
              "      <td>89.868</td>\n",
              "      <td>2.3854</td>\n",
              "      <td>19.178</td>\n",
              "      <td>1041.0</td>\n",
              "      <td>539.47</td>\n",
              "      <td>109.62</td>\n",
              "      <td>10.543</td>\n",
              "      <td>10.7500</td>\n",
              "      <td>103.470</td>\n",
              "    </tr>\n",
              "    <tr>\n",
              "      <th>3</th>\n",
              "      <td>1</td>\n",
              "      <td>8.9715</td>\n",
              "      <td>1019.3</td>\n",
              "      <td>89.490</td>\n",
              "      <td>2.3825</td>\n",
              "      <td>19.180</td>\n",
              "      <td>1037.1</td>\n",
              "      <td>536.89</td>\n",
              "      <td>108.88</td>\n",
              "      <td>10.458</td>\n",
              "      <td>12.2870</td>\n",
              "      <td>108.810</td>\n",
              "    </tr>\n",
              "    <tr>\n",
              "      <th>4</th>\n",
              "      <td>1</td>\n",
              "      <td>9.0157</td>\n",
              "      <td>1019.1</td>\n",
              "      <td>89.099</td>\n",
              "      <td>2.4044</td>\n",
              "      <td>19.206</td>\n",
              "      <td>1043.5</td>\n",
              "      <td>541.25</td>\n",
              "      <td>110.09</td>\n",
              "      <td>10.464</td>\n",
              "      <td>9.8229</td>\n",
              "      <td>100.020</td>\n",
              "    </tr>\n",
              "  </tbody>\n",
              "</table>\n",
              "</div>"
            ],
            "text/plain": [
              "   00      AT      AP      AH    AFDP  ...     TAT     TEY     CDP       CO      NOX\n",
              "0   1  9.3779  1020.1  90.262  2.3927  ...  541.16  110.16  10.564   9.3472   98.741\n",
              "1   1  9.2985  1019.9  89.934  2.3732  ...  538.94  109.23  10.572  11.0160  104.290\n",
              "2   1  9.1337  1019.8  89.868  2.3854  ...  539.47  109.62  10.543  10.7500  103.470\n",
              "3   1  8.9715  1019.3  89.490  2.3825  ...  536.89  108.88  10.458  12.2870  108.810\n",
              "4   1  9.0157  1019.1  89.099  2.4044  ...  541.25  110.09  10.464   9.8229  100.020\n",
              "\n",
              "[5 rows x 12 columns]"
            ]
          },
          "metadata": {
            "tags": []
          },
          "execution_count": 36
        }
      ]
    },
    {
      "cell_type": "code",
      "metadata": {
        "id": "iaQEVMkx8-Lt",
        "outputId": "20b07acc-2dff-4e5b-aa00-39cafb30e88c",
        "colab": {
          "base_uri": "https://localhost:8080/",
          "height": 206
        }
      },
      "source": [
        "# Define input and output data\n",
        "X = dataset.drop(columns=['CO', 'NOX'])\n",
        "Y = dataset.drop(columns=['AT', 'AP', 'AH', 'AFDP', 'GTEP', 'TIT', 'TAT', 'TEY', 'CDP'])\n",
        "\n",
        "X.head()"
      ],
      "execution_count": 37,
      "outputs": [
        {
          "output_type": "execute_result",
          "data": {
            "text/html": [
              "<div>\n",
              "<style scoped>\n",
              "    .dataframe tbody tr th:only-of-type {\n",
              "        vertical-align: middle;\n",
              "    }\n",
              "\n",
              "    .dataframe tbody tr th {\n",
              "        vertical-align: top;\n",
              "    }\n",
              "\n",
              "    .dataframe thead th {\n",
              "        text-align: right;\n",
              "    }\n",
              "</style>\n",
              "<table border=\"1\" class=\"dataframe\">\n",
              "  <thead>\n",
              "    <tr style=\"text-align: right;\">\n",
              "      <th></th>\n",
              "      <th>00</th>\n",
              "      <th>AT</th>\n",
              "      <th>AP</th>\n",
              "      <th>AH</th>\n",
              "      <th>AFDP</th>\n",
              "      <th>GTEP</th>\n",
              "      <th>TIT</th>\n",
              "      <th>TAT</th>\n",
              "      <th>TEY</th>\n",
              "      <th>CDP</th>\n",
              "    </tr>\n",
              "  </thead>\n",
              "  <tbody>\n",
              "    <tr>\n",
              "      <th>0</th>\n",
              "      <td>1</td>\n",
              "      <td>9.3779</td>\n",
              "      <td>1020.1</td>\n",
              "      <td>90.262</td>\n",
              "      <td>2.3927</td>\n",
              "      <td>19.166</td>\n",
              "      <td>1043.6</td>\n",
              "      <td>541.16</td>\n",
              "      <td>110.16</td>\n",
              "      <td>10.564</td>\n",
              "    </tr>\n",
              "    <tr>\n",
              "      <th>1</th>\n",
              "      <td>1</td>\n",
              "      <td>9.2985</td>\n",
              "      <td>1019.9</td>\n",
              "      <td>89.934</td>\n",
              "      <td>2.3732</td>\n",
              "      <td>19.119</td>\n",
              "      <td>1039.9</td>\n",
              "      <td>538.94</td>\n",
              "      <td>109.23</td>\n",
              "      <td>10.572</td>\n",
              "    </tr>\n",
              "    <tr>\n",
              "      <th>2</th>\n",
              "      <td>1</td>\n",
              "      <td>9.1337</td>\n",
              "      <td>1019.8</td>\n",
              "      <td>89.868</td>\n",
              "      <td>2.3854</td>\n",
              "      <td>19.178</td>\n",
              "      <td>1041.0</td>\n",
              "      <td>539.47</td>\n",
              "      <td>109.62</td>\n",
              "      <td>10.543</td>\n",
              "    </tr>\n",
              "    <tr>\n",
              "      <th>3</th>\n",
              "      <td>1</td>\n",
              "      <td>8.9715</td>\n",
              "      <td>1019.3</td>\n",
              "      <td>89.490</td>\n",
              "      <td>2.3825</td>\n",
              "      <td>19.180</td>\n",
              "      <td>1037.1</td>\n",
              "      <td>536.89</td>\n",
              "      <td>108.88</td>\n",
              "      <td>10.458</td>\n",
              "    </tr>\n",
              "    <tr>\n",
              "      <th>4</th>\n",
              "      <td>1</td>\n",
              "      <td>9.0157</td>\n",
              "      <td>1019.1</td>\n",
              "      <td>89.099</td>\n",
              "      <td>2.4044</td>\n",
              "      <td>19.206</td>\n",
              "      <td>1043.5</td>\n",
              "      <td>541.25</td>\n",
              "      <td>110.09</td>\n",
              "      <td>10.464</td>\n",
              "    </tr>\n",
              "  </tbody>\n",
              "</table>\n",
              "</div>"
            ],
            "text/plain": [
              "   00      AT      AP      AH    AFDP    GTEP     TIT     TAT     TEY     CDP\n",
              "0   1  9.3779  1020.1  90.262  2.3927  19.166  1043.6  541.16  110.16  10.564\n",
              "1   1  9.2985  1019.9  89.934  2.3732  19.119  1039.9  538.94  109.23  10.572\n",
              "2   1  9.1337  1019.8  89.868  2.3854  19.178  1041.0  539.47  109.62  10.543\n",
              "3   1  8.9715  1019.3  89.490  2.3825  19.180  1037.1  536.89  108.88  10.458\n",
              "4   1  9.0157  1019.1  89.099  2.4044  19.206  1043.5  541.25  110.09  10.464"
            ]
          },
          "metadata": {
            "tags": []
          },
          "execution_count": 37
        }
      ]
    },
    {
      "cell_type": "code",
      "metadata": {
        "id": "m-RBnyeK1g1c",
        "outputId": "15f52c17-c557-415a-c281-62d799100790",
        "colab": {
          "base_uri": "https://localhost:8080/",
          "height": 206
        }
      },
      "source": [
        "# # normalize X\n",
        "# for i in range(1, len(X.columns)):\n",
        "#     X.iloc[i-1] = X.iloc[i-1]/np.max(X.iloc[i-1])\n",
        "# X.head()"
      ],
      "execution_count": 38,
      "outputs": [
        {
          "output_type": "execute_result",
          "data": {
            "text/html": [
              "<div>\n",
              "<style scoped>\n",
              "    .dataframe tbody tr th:only-of-type {\n",
              "        vertical-align: middle;\n",
              "    }\n",
              "\n",
              "    .dataframe tbody tr th {\n",
              "        vertical-align: top;\n",
              "    }\n",
              "\n",
              "    .dataframe thead th {\n",
              "        text-align: right;\n",
              "    }\n",
              "</style>\n",
              "<table border=\"1\" class=\"dataframe\">\n",
              "  <thead>\n",
              "    <tr style=\"text-align: right;\">\n",
              "      <th></th>\n",
              "      <th>00</th>\n",
              "      <th>AT</th>\n",
              "      <th>AP</th>\n",
              "      <th>AH</th>\n",
              "      <th>AFDP</th>\n",
              "      <th>GTEP</th>\n",
              "      <th>TIT</th>\n",
              "      <th>TAT</th>\n",
              "      <th>TEY</th>\n",
              "      <th>CDP</th>\n",
              "    </tr>\n",
              "  </thead>\n",
              "  <tbody>\n",
              "    <tr>\n",
              "      <th>0</th>\n",
              "      <td>0.000958</td>\n",
              "      <td>0.008986</td>\n",
              "      <td>0.977482</td>\n",
              "      <td>0.086491</td>\n",
              "      <td>0.002293</td>\n",
              "      <td>0.018365</td>\n",
              "      <td>1.0</td>\n",
              "      <td>0.518551</td>\n",
              "      <td>0.105558</td>\n",
              "      <td>0.010123</td>\n",
              "    </tr>\n",
              "    <tr>\n",
              "      <th>1</th>\n",
              "      <td>0.000962</td>\n",
              "      <td>0.008942</td>\n",
              "      <td>0.980767</td>\n",
              "      <td>0.086483</td>\n",
              "      <td>0.002282</td>\n",
              "      <td>0.018385</td>\n",
              "      <td>1.0</td>\n",
              "      <td>0.518261</td>\n",
              "      <td>0.105039</td>\n",
              "      <td>0.010166</td>\n",
              "    </tr>\n",
              "    <tr>\n",
              "      <th>2</th>\n",
              "      <td>0.000961</td>\n",
              "      <td>0.008774</td>\n",
              "      <td>0.979635</td>\n",
              "      <td>0.086329</td>\n",
              "      <td>0.002291</td>\n",
              "      <td>0.018423</td>\n",
              "      <td>1.0</td>\n",
              "      <td>0.518223</td>\n",
              "      <td>0.105303</td>\n",
              "      <td>0.010128</td>\n",
              "    </tr>\n",
              "    <tr>\n",
              "      <th>3</th>\n",
              "      <td>0.000964</td>\n",
              "      <td>0.008651</td>\n",
              "      <td>0.982837</td>\n",
              "      <td>0.086289</td>\n",
              "      <td>0.002297</td>\n",
              "      <td>0.018494</td>\n",
              "      <td>1.0</td>\n",
              "      <td>0.517684</td>\n",
              "      <td>0.104985</td>\n",
              "      <td>0.010084</td>\n",
              "    </tr>\n",
              "    <tr>\n",
              "      <th>4</th>\n",
              "      <td>0.000958</td>\n",
              "      <td>0.008640</td>\n",
              "      <td>0.976617</td>\n",
              "      <td>0.085385</td>\n",
              "      <td>0.002304</td>\n",
              "      <td>0.018405</td>\n",
              "      <td>1.0</td>\n",
              "      <td>0.518687</td>\n",
              "      <td>0.105501</td>\n",
              "      <td>0.010028</td>\n",
              "    </tr>\n",
              "  </tbody>\n",
              "</table>\n",
              "</div>"
            ],
            "text/plain": [
              "         00        AT        AP        AH  ...  TIT       TAT       TEY       CDP\n",
              "0  0.000958  0.008986  0.977482  0.086491  ...  1.0  0.518551  0.105558  0.010123\n",
              "1  0.000962  0.008942  0.980767  0.086483  ...  1.0  0.518261  0.105039  0.010166\n",
              "2  0.000961  0.008774  0.979635  0.086329  ...  1.0  0.518223  0.105303  0.010128\n",
              "3  0.000964  0.008651  0.982837  0.086289  ...  1.0  0.517684  0.104985  0.010084\n",
              "4  0.000958  0.008640  0.976617  0.085385  ...  1.0  0.518687  0.105501  0.010028\n",
              "\n",
              "[5 rows x 10 columns]"
            ]
          },
          "metadata": {
            "tags": []
          },
          "execution_count": 38
        }
      ]
    },
    {
      "cell_type": "code",
      "metadata": {
        "id": "rKpp59dAxvJP",
        "outputId": "f925abc4-0ea8-4ad9-f961-acab0a5831a0",
        "colab": {
          "base_uri": "https://localhost:8080/",
          "height": 206
        }
      },
      "source": [
        "Y.head()"
      ],
      "execution_count": 39,
      "outputs": [
        {
          "output_type": "execute_result",
          "data": {
            "text/html": [
              "<div>\n",
              "<style scoped>\n",
              "    .dataframe tbody tr th:only-of-type {\n",
              "        vertical-align: middle;\n",
              "    }\n",
              "\n",
              "    .dataframe tbody tr th {\n",
              "        vertical-align: top;\n",
              "    }\n",
              "\n",
              "    .dataframe thead th {\n",
              "        text-align: right;\n",
              "    }\n",
              "</style>\n",
              "<table border=\"1\" class=\"dataframe\">\n",
              "  <thead>\n",
              "    <tr style=\"text-align: right;\">\n",
              "      <th></th>\n",
              "      <th>00</th>\n",
              "      <th>CO</th>\n",
              "      <th>NOX</th>\n",
              "    </tr>\n",
              "  </thead>\n",
              "  <tbody>\n",
              "    <tr>\n",
              "      <th>0</th>\n",
              "      <td>1</td>\n",
              "      <td>9.3472</td>\n",
              "      <td>98.741</td>\n",
              "    </tr>\n",
              "    <tr>\n",
              "      <th>1</th>\n",
              "      <td>1</td>\n",
              "      <td>11.0160</td>\n",
              "      <td>104.290</td>\n",
              "    </tr>\n",
              "    <tr>\n",
              "      <th>2</th>\n",
              "      <td>1</td>\n",
              "      <td>10.7500</td>\n",
              "      <td>103.470</td>\n",
              "    </tr>\n",
              "    <tr>\n",
              "      <th>3</th>\n",
              "      <td>1</td>\n",
              "      <td>12.2870</td>\n",
              "      <td>108.810</td>\n",
              "    </tr>\n",
              "    <tr>\n",
              "      <th>4</th>\n",
              "      <td>1</td>\n",
              "      <td>9.8229</td>\n",
              "      <td>100.020</td>\n",
              "    </tr>\n",
              "  </tbody>\n",
              "</table>\n",
              "</div>"
            ],
            "text/plain": [
              "   00       CO      NOX\n",
              "0   1   9.3472   98.741\n",
              "1   1  11.0160  104.290\n",
              "2   1  10.7500  103.470\n",
              "3   1  12.2870  108.810\n",
              "4   1   9.8229  100.020"
            ]
          },
          "metadata": {
            "tags": []
          },
          "execution_count": 39
        }
      ]
    },
    {
      "cell_type": "markdown",
      "metadata": {
        "id": "u7ChvEY_zjYJ"
      },
      "source": [
        "needed parameters:"
      ]
    },
    {
      "cell_type": "code",
      "metadata": {
        "id": "0FrAXSF96DN6"
      },
      "source": [
        "# casting\n",
        "X = tf.cast(X, tf.float32)\n",
        "Y = tf.cast(Y, tf.float32)\n"
      ],
      "execution_count": 51,
      "outputs": []
    },
    {
      "cell_type": "code",
      "metadata": {
        "id": "3yAddogKsQVr"
      },
      "source": [
        "# Wight and Bias\n",
        "W = tf.Variable(np.random.randn(), name='weights')\n",
        "b = tf.Variable(np.random.randn(), name='bias')\n",
        "\n",
        "learning_rate = 0.01\n",
        "epochs = 200\n",
        "\n",
        "n_samples = 30\n",
        "train_x = np.linspace(0, 20, n_samples)\n",
        "train_y = 3 * train_x + 4 * np.random.randn(n_samples)"
      ],
      "execution_count": 52,
      "outputs": []
    },
    {
      "cell_type": "code",
      "metadata": {
        "id": "bhUAxY0w5f5Y",
        "outputId": "9b69a967-bb44-4834-960d-d5bd5d7e1313",
        "colab": {
          "base_uri": "https://localhost:8080/",
          "height": 265
        }
      },
      "source": [
        "plt.plot(train_x, train_y, 'o')\n",
        "plt.plot(train_x, 3 * train_x)\n",
        "plt.show()"
      ],
      "execution_count": 53,
      "outputs": [
        {
          "output_type": "display_data",
          "data": {
            "image/png": "[encoded data removed]",
            "text/plain": [
              "<Figure size 432x288 with 1 Axes>"
            ]
          },
          "metadata": {
            "tags": [],
            "needs_background": "light"
          }
        }
      ]
    },
    {
      "cell_type": "code",
      "metadata": {
        "id": "I3LLPbfSyqk0",
        "outputId": "a2fbc016-7113-42fe-c15f-accaeb919bd9",
        "colab": {
          "base_uri": "https://localhost:8080/",
          "height": 306
        }
      },
      "source": [
        "# Linear regression\n",
        "pred = tf.add(tf.multiply(X, W), b)\n",
        "\n",
        "cost = tf.reduce_sum((pred - Y) ** 2) / (2 * n_samples)\n",
        "\n",
        "optimizer = tf.train.GreadientDescentOptimizer(learning_rate).minimize(cost)"
      ],
      "execution_count": 55,
      "outputs": [
        {
          "output_type": "error",
          "ename": "InvalidArgumentError",
          "evalue": "ignored",
          "traceback": [
            "\u001b[0;31m---------------------------------------------------------------------------\u001b[0m",
            "\u001b[0;31mInvalidArgumentError\u001b[0m                      Traceback (most recent call last)",
            "\u001b[0;32m<ipython-input-55-17ea196e5430>\u001b[0m in \u001b[0;36m<module>\u001b[0;34m()\u001b[0m\n\u001b[1;32m      2\u001b[0m \u001b[0mpred\u001b[0m \u001b[0;34m=\u001b[0m \u001b[0mtf\u001b[0m\u001b[0;34m.\u001b[0m\u001b[0madd\u001b[0m\u001b[0;34m(\u001b[0m\u001b[0mtf\u001b[0m\u001b[0;34m.\u001b[0m\u001b[0mmultiply\u001b[0m\u001b[0;34m(\u001b[0m\u001b[0mX\u001b[0m\u001b[0;34m,\u001b[0m \u001b[0mW\u001b[0m\u001b[0;34m)\u001b[0m\u001b[0;34m,\u001b[0m \u001b[0mb\u001b[0m\u001b[0;34m)\u001b[0m\u001b[0;34m\u001b[0m\u001b[0;34m\u001b[0m\u001b[0m\n\u001b[1;32m      3\u001b[0m \u001b[0;34m\u001b[0m\u001b[0m\n\u001b[0;32m----> 4\u001b[0;31m \u001b[0mcost\u001b[0m \u001b[0;34m=\u001b[0m \u001b[0mtf\u001b[0m\u001b[0;34m.\u001b[0m\u001b[0mreduce_sum\u001b[0m\u001b[0;34m(\u001b[0m\u001b[0;34m(\u001b[0m\u001b[0mpred\u001b[0m \u001b[0;34m-\u001b[0m \u001b[0mY\u001b[0m\u001b[0;34m)\u001b[0m \u001b[0;34m**\u001b[0m \u001b[0;36m2\u001b[0m\u001b[0;34m)\u001b[0m \u001b[0;34m/\u001b[0m \u001b[0;34m(\u001b[0m\u001b[0;36m2\u001b[0m \u001b[0;34m*\u001b[0m \u001b[0mn_samples\u001b[0m\u001b[0;34m)\u001b[0m\u001b[0;34m\u001b[0m\u001b[0;34m\u001b[0m\u001b[0m\n\u001b[0m\u001b[1;32m      5\u001b[0m \u001b[0;34m\u001b[0m\u001b[0m\n\u001b[1;32m      6\u001b[0m \u001b[0moptimizer\u001b[0m \u001b[0;34m=\u001b[0m \u001b[0mtf\u001b[0m\u001b[0;34m.\u001b[0m\u001b[0mtrain\u001b[0m\u001b[0;34m.\u001b[0m\u001b[0mGreadientDescentOptimizer\u001b[0m\u001b[0;34m(\u001b[0m\u001b[0mlearning_rate\u001b[0m\u001b[0;34m)\u001b[0m\u001b[0;34m.\u001b[0m\u001b[0mminimize\u001b[0m\u001b[0;34m(\u001b[0m\u001b[0mcost\u001b[0m\u001b[0;34m)\u001b[0m\u001b[0;34m\u001b[0m\u001b[0;34m\u001b[0m\u001b[0m\n",
            "\u001b[0;32m/usr/local/lib/python3.6/dist-packages/tensorflow/python/ops/math_ops.py\u001b[0m in \u001b[0;36mbinary_op_wrapper\u001b[0;34m(x, y)\u001b[0m\n\u001b[1;32m   1123\u001b[0m     \u001b[0;32mwith\u001b[0m \u001b[0mops\u001b[0m\u001b[0;34m.\u001b[0m\u001b[0mname_scope\u001b[0m\u001b[0;34m(\u001b[0m\u001b[0;32mNone\u001b[0m\u001b[0;34m,\u001b[0m \u001b[0mop_name\u001b[0m\u001b[0;34m,\u001b[0m \u001b[0;34m[\u001b[0m\u001b[0mx\u001b[0m\u001b[0;34m,\u001b[0m \u001b[0my\u001b[0m\u001b[0;34m]\u001b[0m\u001b[0;34m)\u001b[0m \u001b[0;32mas\u001b[0m \u001b[0mname\u001b[0m\u001b[0;34m:\u001b[0m\u001b[0;34m\u001b[0m\u001b[0;34m\u001b[0m\u001b[0m\n\u001b[1;32m   1124\u001b[0m       \u001b[0;32mtry\u001b[0m\u001b[0;34m:\u001b[0m\u001b[0;34m\u001b[0m\u001b[0;34m\u001b[0m\u001b[0m\n\u001b[0;32m-> 1125\u001b[0;31m         \u001b[0;32mreturn\u001b[0m \u001b[0mfunc\u001b[0m\u001b[0;34m(\u001b[0m\u001b[0mx\u001b[0m\u001b[0;34m,\u001b[0m \u001b[0my\u001b[0m\u001b[0;34m,\u001b[0m \u001b[0mname\u001b[0m\u001b[0;34m=\u001b[0m\u001b[0mname\u001b[0m\u001b[0;34m)\u001b[0m\u001b[0;34m\u001b[0m\u001b[0;34m\u001b[0m\u001b[0m\n\u001b[0m\u001b[1;32m   1126\u001b[0m       \u001b[0;32mexcept\u001b[0m \u001b[0;34m(\u001b[0m\u001b[0mTypeError\u001b[0m\u001b[0;34m,\u001b[0m \u001b[0mValueError\u001b[0m\u001b[0;34m)\u001b[0m \u001b[0;32mas\u001b[0m \u001b[0me\u001b[0m\u001b[0;34m:\u001b[0m\u001b[0;34m\u001b[0m\u001b[0;34m\u001b[0m\u001b[0m\n\u001b[1;32m   1127\u001b[0m         \u001b[0;31m# Even if dispatching the op failed, the RHS may be a tensor aware\u001b[0m\u001b[0;34m\u001b[0m\u001b[0;34m\u001b[0m\u001b[0;34m\u001b[0m\u001b[0m\n",
            "\u001b[0;32m/usr/local/lib/python3.6/dist-packages/tensorflow/python/util/dispatch.py\u001b[0m in \u001b[0;36mwrapper\u001b[0;34m(*args, **kwargs)\u001b[0m\n\u001b[1;32m    199\u001b[0m     \u001b[0;34m\"\"\"Call target, and fall back on dispatchers if there is a TypeError.\"\"\"\u001b[0m\u001b[0;34m\u001b[0m\u001b[0;34m\u001b[0m\u001b[0m\n\u001b[1;32m    200\u001b[0m     \u001b[0;32mtry\u001b[0m\u001b[0;34m:\u001b[0m\u001b[0;34m\u001b[0m\u001b[0;34m\u001b[0m\u001b[0m\n\u001b[0;32m--> 201\u001b[0;31m       \u001b[0;32mreturn\u001b[0m \u001b[0mtarget\u001b[0m\u001b[0;34m(\u001b[0m\u001b[0;34m*\u001b[0m\u001b[0margs\u001b[0m\u001b[0;34m,\u001b[0m \u001b[0;34m**\u001b[0m\u001b[0mkwargs\u001b[0m\u001b[0;34m)\u001b[0m\u001b[0;34m\u001b[0m\u001b[0;34m\u001b[0m\u001b[0m\n\u001b[0m\u001b[1;32m    202\u001b[0m     \u001b[0;32mexcept\u001b[0m \u001b[0;34m(\u001b[0m\u001b[0mTypeError\u001b[0m\u001b[0;34m,\u001b[0m \u001b[0mValueError\u001b[0m\u001b[0;34m)\u001b[0m\u001b[0;34m:\u001b[0m\u001b[0;34m\u001b[0m\u001b[0;34m\u001b[0m\u001b[0m\n\u001b[1;32m    203\u001b[0m       \u001b[0;31m# Note: convert_to_eager_tensor currently raises a ValueError, not a\u001b[0m\u001b[0;34m\u001b[0m\u001b[0;34m\u001b[0m\u001b[0;34m\u001b[0m\u001b[0m\n",
            "\u001b[0;32m/usr/local/lib/python3.6/dist-packages/tensorflow/python/ops/math_ops.py\u001b[0m in \u001b[0;36msubtract\u001b[0;34m(x, y, name)\u001b[0m\n\u001b[1;32m    525\u001b[0m \u001b[0;34m@\u001b[0m\u001b[0mdispatch\u001b[0m\u001b[0;34m.\u001b[0m\u001b[0madd_dispatch_support\u001b[0m\u001b[0;34m\u001b[0m\u001b[0;34m\u001b[0m\u001b[0m\n\u001b[1;32m    526\u001b[0m \u001b[0;32mdef\u001b[0m \u001b[0msubtract\u001b[0m\u001b[0;34m(\u001b[0m\u001b[0mx\u001b[0m\u001b[0;34m,\u001b[0m \u001b[0my\u001b[0m\u001b[0;34m,\u001b[0m \u001b[0mname\u001b[0m\u001b[0;34m=\u001b[0m\u001b[0;32mNone\u001b[0m\u001b[0;34m)\u001b[0m\u001b[0;34m:\u001b[0m\u001b[0;34m\u001b[0m\u001b[0;34m\u001b[0m\u001b[0m\n\u001b[0;32m--> 527\u001b[0;31m   \u001b[0;32mreturn\u001b[0m \u001b[0mgen_math_ops\u001b[0m\u001b[0;34m.\u001b[0m\u001b[0msub\u001b[0m\u001b[0;34m(\u001b[0m\u001b[0mx\u001b[0m\u001b[0;34m,\u001b[0m \u001b[0my\u001b[0m\u001b[0;34m,\u001b[0m \u001b[0mname\u001b[0m\u001b[0;34m)\u001b[0m\u001b[0;34m\u001b[0m\u001b[0;34m\u001b[0m\u001b[0m\n\u001b[0m\u001b[1;32m    528\u001b[0m \u001b[0;34m\u001b[0m\u001b[0m\n\u001b[1;32m    529\u001b[0m \u001b[0;34m\u001b[0m\u001b[0m\n",
            "\u001b[0;32m/usr/local/lib/python3.6/dist-packages/tensorflow/python/ops/gen_math_ops.py\u001b[0m in \u001b[0;36msub\u001b[0;34m(x, y, name)\u001b[0m\n\u001b[1;32m  10454\u001b[0m       \u001b[0;32mreturn\u001b[0m \u001b[0m_result\u001b[0m\u001b[0;34m\u001b[0m\u001b[0;34m\u001b[0m\u001b[0m\n\u001b[1;32m  10455\u001b[0m     \u001b[0;32mexcept\u001b[0m \u001b[0m_core\u001b[0m\u001b[0;34m.\u001b[0m\u001b[0m_NotOkStatusException\u001b[0m \u001b[0;32mas\u001b[0m \u001b[0me\u001b[0m\u001b[0;34m:\u001b[0m\u001b[0;34m\u001b[0m\u001b[0;34m\u001b[0m\u001b[0m\n\u001b[0;32m> 10456\u001b[0;31m       \u001b[0m_ops\u001b[0m\u001b[0;34m.\u001b[0m\u001b[0mraise_from_not_ok_status\u001b[0m\u001b[0;34m(\u001b[0m\u001b[0me\u001b[0m\u001b[0;34m,\u001b[0m \u001b[0mname\u001b[0m\u001b[0;34m)\u001b[0m\u001b[0;34m\u001b[0m\u001b[0;34m\u001b[0m\u001b[0m\n\u001b[0m\u001b[1;32m  10457\u001b[0m     \u001b[0;32mexcept\u001b[0m \u001b[0m_core\u001b[0m\u001b[0;34m.\u001b[0m\u001b[0m_FallbackException\u001b[0m\u001b[0;34m:\u001b[0m\u001b[0;34m\u001b[0m\u001b[0;34m\u001b[0m\u001b[0m\n\u001b[1;32m  10458\u001b[0m       \u001b[0;32mpass\u001b[0m\u001b[0;34m\u001b[0m\u001b[0;34m\u001b[0m\u001b[0m\n",
            "\u001b[0;32m/usr/local/lib/python3.6/dist-packages/tensorflow/python/framework/ops.py\u001b[0m in \u001b[0;36mraise_from_not_ok_status\u001b[0;34m(e, name)\u001b[0m\n\u001b[1;32m   6841\u001b[0m   \u001b[0mmessage\u001b[0m \u001b[0;34m=\u001b[0m \u001b[0me\u001b[0m\u001b[0;34m.\u001b[0m\u001b[0mmessage\u001b[0m \u001b[0;34m+\u001b[0m \u001b[0;34m(\u001b[0m\u001b[0;34m\" name: \"\u001b[0m \u001b[0;34m+\u001b[0m \u001b[0mname\u001b[0m \u001b[0;32mif\u001b[0m \u001b[0mname\u001b[0m \u001b[0;32mis\u001b[0m \u001b[0;32mnot\u001b[0m \u001b[0;32mNone\u001b[0m \u001b[0;32melse\u001b[0m \u001b[0;34m\"\"\u001b[0m\u001b[0;34m)\u001b[0m\u001b[0;34m\u001b[0m\u001b[0;34m\u001b[0m\u001b[0m\n\u001b[1;32m   6842\u001b[0m   \u001b[0;31m# pylint: disable=protected-access\u001b[0m\u001b[0;34m\u001b[0m\u001b[0;34m\u001b[0m\u001b[0;34m\u001b[0m\u001b[0m\n\u001b[0;32m-> 6843\u001b[0;31m   \u001b[0msix\u001b[0m\u001b[0;34m.\u001b[0m\u001b[0mraise_from\u001b[0m\u001b[0;34m(\u001b[0m\u001b[0mcore\u001b[0m\u001b[0;34m.\u001b[0m\u001b[0m_status_to_exception\u001b[0m\u001b[0;34m(\u001b[0m\u001b[0me\u001b[0m\u001b[0;34m.\u001b[0m\u001b[0mcode\u001b[0m\u001b[0;34m,\u001b[0m \u001b[0mmessage\u001b[0m\u001b[0;34m)\u001b[0m\u001b[0;34m,\u001b[0m \u001b[0;32mNone\u001b[0m\u001b[0;34m)\u001b[0m\u001b[0;34m\u001b[0m\u001b[0;34m\u001b[0m\u001b[0m\n\u001b[0m\u001b[1;32m   6844\u001b[0m   \u001b[0;31m# pylint: enable=protected-access\u001b[0m\u001b[0;34m\u001b[0m\u001b[0;34m\u001b[0m\u001b[0;34m\u001b[0m\u001b[0m\n\u001b[1;32m   6845\u001b[0m \u001b[0;34m\u001b[0m\u001b[0m\n",
            "\u001b[0;32m/usr/local/lib/python3.6/dist-packages/six.py\u001b[0m in \u001b[0;36mraise_from\u001b[0;34m(value, from_value)\u001b[0m\n",
            "\u001b[0;31mInvalidArgumentError\u001b[0m: Incompatible shapes: [7152,10] vs. [7152,3] [Op:Sub]"
          ]
        }
      ]
    },
    {
      "cell_type": "code",
      "metadata": {
        "id": "-N1Pe2me1Hnr"
      },
      "source": [
        "init = tf.global_variables_initializer()"
      ],
      "execution_count": null,
      "outputs": []
    },
    {
      "cell_type": "code",
      "metadata": {
        "id": "xbyXt0Py1RbX"
      },
      "source": [
        "with tf.Session() as sesh:\n",
        "    sesh.run(init)\n",
        "    \n",
        "    for epoch in range(epochs):\n",
        "        for x, y in zip(train_x, train_y):\n",
        "            sesh.run(optimizer, feed_dict={X: x, Y: y})\n",
        "            \n",
        "        if not epoch % 20:\n",
        "            c = sesh.run(cost, feed_dict={X: train_x, Y: train_y})\n",
        "            w = sesh.run(W)\n",
        "            b = sesh.run(B)\n",
        "            print(f'epoch: {epoch:04d} c={c:.4f} w={w:.4f} b={b:.4f}')\n",
        "            \n",
        "    weight = sesh.run(W)\n",
        "    bias = sesh.run(B)\n",
        "    plt.plot(train_x, train_y, 'o')\n",
        "    plt.plot(train_x, weight * train_x + bias)\n",
        "    plt.show()"
      ],
      "execution_count": null,
      "outputs": []
    }
  ]
}